{
 "cells": [
  {
   "cell_type": "markdown",
   "metadata": {},
   "source": [
    "## Machine Learning\n",
    "After looking at the data in the previous steps, I decided to group the hurricane impacts per year into groups based on the number of hurricanes per year and the average category strength per year.\n",
    "\n",
    "There is one main predictions that will be made:\n",
    "1. The number of hurricanes severity for that year.\n",
    "2. The average strength severity for that year.\n",
    "\n",
    "**For lack of time I only did one prediction group (number of hurricanes for the year).  There is code written for two groups up until a point, then I notated where future work could be done.**"
   ]
  },
  {
   "cell_type": "code",
   "execution_count": 1,
   "metadata": {
    "collapsed": true
   },
   "outputs": [],
   "source": [
    "#load the necessary datasets and packages\n",
    "import numpy as np\n",
    "import pandas as pd\n",
    "import matplotlib.pyplot as plt\n",
    "from scipy import stats\n",
    "\n",
    "hurricanes_df = pd.read_csv(\"C:/Users/sethh/OneDrive/Desktop/Springboard/Capstone Project 1/hurricanes_df.csv\", \n",
    "                            index_col = 0, parse_dates=True)\n",
    "\n",
    "wod_df_date = pd.read_csv(\"C:/Users/sethh/OneDrive/Desktop/Springboard/Capstone Project 1/wod_df_date.csv\", \n",
    "                          index_col = 0, parse_dates=True)"
   ]
  },
  {
   "cell_type": "code",
   "execution_count": 2,
   "metadata": {},
   "outputs": [
    {
     "name": "stdout",
     "output_type": "stream",
     "text": [
      "The value counts for the hurricanes per year data.\n",
      "0     18\n",
      "1     16\n",
      "2     10\n",
      "3      4\n",
      "4      1\n",
      "5      2\n",
      "6      1\n",
      "11     1\n",
      "Name: name, dtype: int64\n",
      "\n",
      "The value counts for the average strength per year data.\n",
      "0.000000    18\n",
      "1.000000    12\n",
      "1.500000     2\n",
      "1.666667     2\n",
      "2.000000     6\n",
      "2.166667     1\n",
      "2.250000     1\n",
      "2.500000     1\n",
      "3.000000     7\n",
      "3.666667     1\n",
      "4.000000     2\n",
      "dtype: int64\n"
     ]
    }
   ],
   "source": [
    "#have a look at the value counts for number of hurricanes per year occurrences\n",
    "hurr_year = hurricanes_df.resample('A').count()\n",
    "hurr_year = hurr_year[hurr_year.index.year <= 2012]\n",
    "print('The value counts for the hurricanes per year data.')\n",
    "print(hurr_year.name.value_counts().sort_index())\n",
    "print()\n",
    "\n",
    "#calculate average strength of hurricanes per year\n",
    "cat_year = hurricanes_df.resample('A').mean().fillna(0)\n",
    "cat_year = cat_year[cat_year.index.year <= 2012]\n",
    "strengths = pd.Series([arr[0] for arr in cat_year.values], index = cat_year.index)\n",
    "print('The value counts for the average strength per year data.')\n",
    "print(strengths.value_counts().sort_index())"
   ]
  },
  {
   "cell_type": "markdown",
   "metadata": {},
   "source": [
    "### After looking into the hurricane groupings, here are the categories for the groupings.\n",
    "\n",
    "\n",
    "I chose to do groups intstead of linear regression techniques because I have strong suspicions that the model will always perform poorly if trying to predict the exact number of hurricanes per year or exact average strength per year.  Groups will allow for classification which I believe the model will have more success performing.  The impact is still similar in that we can still obtain quality information about the severity of the upcoming hurricane season.\n",
    "\n",
    "Moreover, the scoring criterion for the models will be the classification report which includes precision, recall, and f1 scores for each class and an average for the scores.  Emphasis will be put on the f1_score as this score is best indicative in this case for a better model as I don't want too many false positives, and I also don't want too many false negatives.\n",
    "\n",
    "\n",
    "1. Hurricanes per year:\n",
    "    * No Impacts (0)\n",
    "        * 0 hurricanes\n",
    "    * Moderate (1)\n",
    "        * 1-2 hurricanes\n",
    "    * Severe (2)\n",
    "        * 3+ hurricanes\n",
    "2. Average strength per year:\n",
    "    * Mild (0)\n",
    "        * 0-1.5 average category ranking\n",
    "    * Moderate (1)\n",
    "        * 1.5-3 average category ranking\n",
    "    * Severe (2)\n",
    "        * 3-5 average category ranking\n",
    "        \n",
    "        \n",
    "### Feature Engineering and Model Selection\n",
    "1. Features\n",
    "    * Since temperature was the only statistically significant trend, let's try just temperature as a feature first.\n",
    "    * Try adding in the rest of the wod features into the model next.\n",
    "        * The features will be averages for the time before the hurricane season (January 1st to May 31st) for that year.\n",
    "    * Try adding in previous years ocean data as features.\n",
    "        * The features will be averages for the time before the hurricane season (January 1st to May 31st) for the previous year.\n",
    "    * Try adding in previous years number of hurricanes and average strength as features.\n",
    "2. Models\n",
    "    * Logistic Regression\n",
    "    * SVM Classification\n",
    "    * kNN\n",
    "    \n",
    "### Getting the features ready\n",
    "#### Ocean data only\n",
    "* We need to first get the world ocean database to be in the form of one observation per row with columns being the different features."
   ]
  },
  {
   "cell_type": "code",
   "execution_count": 3,
   "metadata": {
    "collapsed": true
   },
   "outputs": [],
   "source": [
    "#fix up the wod df to be the feature set.\n",
    "wod_yr = wod_df_date.loc[wod_df_date.index.month < 6].resample('A').mean()\n",
    "X = np.array(wod_yr.reset_index(drop=True))\n",
    "\n",
    "#create group labels for each case for number of hurricanes\n",
    "y_hurr = np.empty(len(wod_yr.index))\n",
    "for i, index in enumerate(wod_yr.index):\n",
    "    if hurr_year.name[index] == 0:\n",
    "        y_hurr[i] = int(0)\n",
    "    elif (hurr_year.name[index]>=1) & (hurr_year.name[index]<=2):\n",
    "        y_hurr[i] = int(1)\n",
    "    elif hurr_year.name[index]>=3:\n",
    "        y_hurr[i] = int(2)\n",
    "        \n",
    "#create group labels for each case for average strength of hurricanes\n",
    "y_strength = np.empty(len(wod_yr.index))\n",
    "for i, index in enumerate(wod_yr.index):\n",
    "    if strengths[index] <= 1.5:\n",
    "        y_strength[i] = 0\n",
    "    elif (strengths[index]>1.5) & (strengths[index]<=3):\n",
    "        y_strength[i] = 1\n",
    "    else:\n",
    "        y_strength[i] = 2"
   ]
  },
  {
   "cell_type": "markdown",
   "metadata": {},
   "source": [
    "### 1. Logistic Regression\n",
    "* ### A. Number of Hurricanes with just Temperature"
   ]
  },
  {
   "cell_type": "code",
   "execution_count": 17,
   "metadata": {
    "scrolled": true
   },
   "outputs": [
    {
     "name": "stdout",
     "output_type": "stream",
     "text": [
      "The best C value is 373.4012107035736, with an accuracy of 0.4864864864864865.\n",
      "\n",
      "             precision    recall  f1-score   support\n",
      "\n",
      "  no impact       1.00      0.25      0.40         4\n",
      "   moderate       0.67      1.00      0.80        10\n",
      "     severe       0.00      0.00      0.00         2\n",
      "\n",
      "avg / total       0.67      0.69      0.60        16\n",
      "\n",
      "\n",
      "The f1 score is : 0.6\n",
      "The model coefficients are no impact:[ 0.32060372], moderate:[ 0.11399353], severe:[-0.67968092].\n",
      "\n"
     ]
    },
    {
     "name": "stderr",
     "output_type": "stream",
     "text": [
      "C:\\Users\\sethh\\Anaconda3\\lib\\site-packages\\sklearn\\metrics\\classification.py:1135: UndefinedMetricWarning: Precision and F-score are ill-defined and being set to 0.0 in labels with no predicted samples.\n",
      "  'precision', 'predicted', average, warn_for)\n",
      "C:\\Users\\sethh\\Anaconda3\\lib\\site-packages\\sklearn\\metrics\\classification.py:1135: UndefinedMetricWarning: F-score is ill-defined and being set to 0.0 in labels with no predicted samples.\n",
      "  'precision', 'predicted', average, warn_for)\n"
     ]
    }
   ],
   "source": [
    "from sklearn.linear_model import LogisticRegression\n",
    "from sklearn.metrics import classification_report\n",
    "from sklearn.model_selection import RandomizedSearchCV\n",
    "from sklearn.pipeline import Pipeline\n",
    "from sklearn.metrics import roc_auc_score\n",
    "from sklearn.preprocessing import StandardScaler\n",
    "from sklearn.model_selection import train_test_split\n",
    "from sklearn.metrics import f1_score\n",
    "\n",
    "\n",
    "def clf_mod_test(pipeline, data, target, params, split_test_size=.3, rand_iters=10, cv_folds=3, class_labels=[]):\n",
    "    \"\"\"Takes a pipeline, data, targets, CV search params, test_size, \n",
    "    number of iters and number of folds for RandomizedSearchCV, and the labels of classes.\n",
    "    \n",
    "    Returns a tuned and fitted model and f1 weighted score and prints a classification report and f1 score.\"\"\"\n",
    "    \n",
    "    #split data into train and test sets\n",
    "    X_train, X_test, y_train, y_test = train_test_split(data, target, test_size = split_test_size, random_state=42)\n",
    "\n",
    "    #run grid search on pipeline\n",
    "    gm_cv = RandomizedSearchCV(pipeline, param_distributions = params, \n",
    "                               cv=cv_folds, n_iter=rand_iters, random_state=42)\n",
    "    \n",
    "    gm_cv.fit(X_train, y_train)\n",
    "    C = gm_cv.best_params_['logistic_regression__C']\n",
    "    print('The best C value is {}, with an accuracy of {}.'.format(gm_cv.best_params_['logistic_regression__C'], gm_cv.best_score_))\n",
    "    print()\n",
    "\n",
    "    #test model on test dataset and get classification report.\n",
    "    y_pred = gm_cv.predict(X_test)\n",
    "    print(classification_report(y_test, y_pred, target_names=class_labels))\n",
    "    print()\n",
    "    \n",
    "    #get f1 score for model comparison\n",
    "    f1 = f1_score(y_test, y_pred, average='weighted')\n",
    "    print('The f1 score is : {}'.format(f1))\n",
    "    \n",
    "    return gm_cv, f1, C\n",
    "\n",
    "#set up pipeline\n",
    "steps = [('scaler', StandardScaler())\n",
    "        ,('logistic_regression', LogisticRegression())]\n",
    "\n",
    "pipeline_lr = Pipeline(steps)\n",
    "\n",
    "#set up grid search cross validation parameters and other params needed to generate the classifier\n",
    "params_lr = {'logistic_regression__C':np.logspace(-5,5,100000)}\n",
    "hurr_labels=['no impact', 'moderate', 'severe']\n",
    "\n",
    "\n",
    "\n",
    "\n",
    "lr_hurr_temp, f1_hurr_temp, C_hurr_temp = clf_mod_test(pipeline = pipeline_lr, data=X[:,4].reshape(-1,1), \n",
    "                                                       target=y_hurr, params=params_lr, \n",
    "                                                       rand_iters=10000, class_labels=hurr_labels, \n",
    "                                                       split_test_size=.3, cv_folds=3)\n",
    "coeffs = lr_hurr_temp.best_estimator_.named_steps['logistic_regression'].coef_\n",
    "print('The model coefficients are no impact:{}, moderate:{}, severe:{}.'.format(coeffs[0],coeffs[1],coeffs[2]))\n",
    "print()\n",
    "   "
   ]
  },
  {
   "cell_type": "markdown",
   "metadata": {},
   "source": [
    "* ### B. Now use all the wod data as features"
   ]
  },
  {
   "cell_type": "code",
   "execution_count": 5,
   "metadata": {
    "scrolled": true
   },
   "outputs": [
    {
     "name": "stdout",
     "output_type": "stream",
     "text": [
      "The best C value is 0.0009692144138389965, with an accuracy of 0.6216216216216216.\n",
      "\n",
      "             precision    recall  f1-score   support\n",
      "\n",
      "  no impact       1.00      0.25      0.40         4\n",
      "   moderate       0.58      0.70      0.64        10\n",
      "     severe       0.00      0.00      0.00         2\n",
      "\n",
      "avg / total       0.61      0.50      0.50        16\n",
      "\n",
      "\n",
      "The f1 score is : 0.4977272727272728\n",
      "The model coefficients are no impact:[ 0.00347225 -0.00244249  0.00154245 -0.0032014   0.00258036], moderate:[-0.00136414 -0.0027272   0.00433682 -0.00240796  0.00095251], severe:[-0.00210819  0.0051698  -0.00587929  0.00560941 -0.00353292].\n",
      "\n"
     ]
    }
   ],
   "source": [
    "lr_hurr_wod, f1_hurr_wod, C_hurr_wod = clf_mod_test(pipeline = pipeline_lr, data=X, target=y_hurr, \n",
    "                                                              params=params_lr,rand_iters=10000, \n",
    "                                                              class_labels=hurr_labels, split_test_size=.3, cv_folds=3)\n",
    "coeffs = lr_hurr_wod.best_estimator_.named_steps['logistic_regression'].coef_\n",
    "print('The model coefficients are no impact:{}, moderate:{}, severe:{}.'.format(coeffs[0],coeffs[1],coeffs[2]))\n",
    "    \n",
    "print()"
   ]
  },
  {
   "cell_type": "markdown",
   "metadata": {},
   "source": [
    "* After adding in all the wod features into the model, the model performed worse.\n",
    "\n",
    "* ### C. Add in previous year's wod data as features."
   ]
  },
  {
   "cell_type": "code",
   "execution_count": 6,
   "metadata": {
    "scrolled": false
   },
   "outputs": [
    {
     "name": "stdout",
     "output_type": "stream",
     "text": [
      "The best C value is 0.0009692144138389965, with an accuracy of 0.4722222222222222.\n",
      "\n",
      "             precision    recall  f1-score   support\n",
      "\n",
      "  no impact       0.33      0.25      0.29         4\n",
      "   moderate       0.46      0.86      0.60         7\n",
      "     severe       0.00      0.00      0.00         5\n",
      "\n",
      "avg / total       0.29      0.44      0.33        16\n",
      "\n",
      "\n",
      "The f1 score is : 0.33392857142857146\n",
      "The model coefficients are no impact:[  4.75926532e-04  -2.60364805e-03   2.97027246e-03  -4.12127607e-03\n",
      "   6.32142249e-03  -1.02988774e-07   3.39883241e-03  -1.93292285e-03\n",
      "  -2.04532070e-03   3.50968759e-03], moderate:[ 0.00187972  0.00247981  0.00062146  0.00241092 -0.0033971  -0.00438146\n",
      " -0.00286208  0.00361071  0.0022551  -0.00195502], severe:[-0.00235578  0.00012372 -0.00359176  0.00171025 -0.00292425  0.00438162\n",
      " -0.00053667 -0.0016779  -0.00020977 -0.0015546 ].\n",
      "\n"
     ]
    },
    {
     "name": "stderr",
     "output_type": "stream",
     "text": [
      "C:\\Users\\sethh\\Anaconda3\\lib\\site-packages\\sklearn\\metrics\\classification.py:1135: UndefinedMetricWarning: Precision and F-score are ill-defined and being set to 0.0 in labels with no predicted samples.\n",
      "  'precision', 'predicted', average, warn_for)\n",
      "C:\\Users\\sethh\\Anaconda3\\lib\\site-packages\\sklearn\\metrics\\classification.py:1135: UndefinedMetricWarning: F-score is ill-defined and being set to 0.0 in labels with no predicted samples.\n",
      "  'precision', 'predicted', average, warn_for)\n"
     ]
    }
   ],
   "source": [
    "#add in the feature to the data and drop first row as it won't have a last year's data field\n",
    "wod_last_yr = wod_yr.copy()\n",
    "wod_last_yr.index = wod_last_yr.index.year\n",
    "for year in range(1961,2013):\n",
    "    for feature in wod_yr.columns.values:\n",
    "        wod_last_yr.loc[year,str(feature)+'_last']=wod_last_yr.loc[year-1,feature]\n",
    "\n",
    "X_last = np.array(wod_last_yr.iloc[1:,:].reset_index(drop=True))\n",
    "\n",
    "#run logreg model\n",
    "\n",
    "lr_hurr_last, f1_hurr_last, C_hurr_last = clf_mod_test(pipeline = pipeline_lr, data=X_last, target=y_hurr[1:], \n",
    "                                                              params=params_lr,rand_iters=10000, \n",
    "                                                              class_labels=hurr_labels, split_test_size=.3, cv_folds=3)\n",
    "coeffs = lr_hurr_last.best_estimator_.named_steps['logistic_regression'].coef_\n",
    "print('The model coefficients are no impact:{}, moderate:{}, severe:{}.'.format(coeffs[0],coeffs[1],coeffs[2]))\n",
    "    \n",
    "print()"
   ]
  },
  {
   "cell_type": "markdown",
   "metadata": {},
   "source": [
    "* After adding in last year's wod_features it seems that the performance is worse.\n",
    "\n",
    "* ### D. Add in the previous years number of hurricanes and average strength as features."
   ]
  },
  {
   "cell_type": "code",
   "execution_count": 7,
   "metadata": {
    "scrolled": false
   },
   "outputs": [
    {
     "name": "stdout",
     "output_type": "stream",
     "text": [
      "The best C value is 2.7381319606058225, with an accuracy of 0.3888888888888889.\n",
      "\n",
      "             precision    recall  f1-score   support\n",
      "\n",
      "  no impact       0.00      0.00      0.00         4\n",
      "   moderate       0.50      1.00      0.67         7\n",
      "     severe       1.00      0.40      0.57         5\n",
      "\n",
      "avg / total       0.53      0.56      0.47        16\n",
      "\n",
      "\n",
      "The f1 score is : 0.47023809523809523\n",
      "The model coefficients are no impact:[ 0.27122495 -0.18562546 -0.05209556 -0.96881214  0.28231419 -0.13042503\n",
      "  0.51275298 -0.79375581 -0.27810071  0.72216618  0.12899747  0.36511647], moderate:[ 0.38577182  0.21214017  0.41410588  0.3803529  -0.06595155 -0.7265404\n",
      " -0.44780912  0.51033103  0.49164684 -0.89550753 -0.43187262 -0.24181826], severe:[-1.38002593  0.04824471 -0.6779403   0.65155592 -0.34236895  1.04690628\n",
      " -0.04195795  0.26024669 -0.44873431  0.36207536  0.4025181  -0.43345288].\n",
      "\n"
     ]
    },
    {
     "name": "stderr",
     "output_type": "stream",
     "text": [
      "C:\\Users\\sethh\\Anaconda3\\lib\\site-packages\\sklearn\\metrics\\classification.py:1135: UndefinedMetricWarning: Precision and F-score are ill-defined and being set to 0.0 in labels with no predicted samples.\n",
      "  'precision', 'predicted', average, warn_for)\n",
      "C:\\Users\\sethh\\Anaconda3\\lib\\site-packages\\sklearn\\metrics\\classification.py:1135: UndefinedMetricWarning: F-score is ill-defined and being set to 0.0 in labels with no predicted samples.\n",
      "  'precision', 'predicted', average, warn_for)\n"
     ]
    }
   ],
   "source": [
    "#add in the feature to the data and drop first row as it won't have a last year's data field\n",
    "wod_last_yr_hurr = wod_last_yr.copy()\n",
    "hurr_yr = hurr_year.copy()\n",
    "hurr_yr.index = hurr_yr.index.year\n",
    "hurricanes = hurr_yr.name\n",
    "strengths.index = strengths.index.year\n",
    "\n",
    "for year in range(1961,2013):\n",
    "    wod_last_yr_hurr.loc[year,'last_yr_hurr']=hurricanes[year-1]\n",
    "    wod_last_yr_hurr.loc[year,'last_yr_str']=strengths[year-1]\n",
    "\n",
    "X_last_hurr = np.array(wod_last_yr_hurr.iloc[1:,:].reset_index(drop=True))\n",
    "\n",
    "#run logreg model\n",
    "lr_hurr_last_hurr, f1_hurr_last_hurr, C_hurr_last_hurr = clf_mod_test(pipeline = pipeline_lr, data=X_last_hurr, \n",
    "                                                                                target=y_hurr[1:], \n",
    "                                                              params=params_lr,rand_iters=10000, \n",
    "                                                              class_labels=hurr_labels, split_test_size=.3, cv_folds=3)\n",
    "    \n",
    "coeffs = lr_hurr_last_hurr.best_estimator_.named_steps['logistic_regression'].coef_\n",
    "print('The model coefficients are no impact:{}, moderate:{}, severe:{}.'.format(coeffs[0],coeffs[1],coeffs[2]))\n",
    "    \n",
    "print()"
   ]
  },
  {
   "cell_type": "code",
   "execution_count": 19,
   "metadata": {
    "scrolled": false
   },
   "outputs": [
    {
     "name": "stdout",
     "output_type": "stream",
     "text": [
      "The f1 scores for the logistic regression models.\n"
     ]
    },
    {
     "data": {
      "image/png": "[encoded data removed]",
      "text/plain": [
       "<matplotlib.figure.Figure at 0x26d9e796dd8>"
      ]
     },
     "metadata": {},
     "output_type": "display_data"
    }
   ],
   "source": [
    "print('The f1 scores for the logistic regression models.')\n",
    "plt.figure(figsize = (10,3))\n",
    "plt.bar(x=range(4), height=[f1_hurr_last_hurr,f1_hurr_last, f1_hurr_wod, f1_hurr_temp], \n",
    "            tick_label=['last years number of hurrs and strength added','last years wod features added','all wod features','only temperature'])\n",
    "plt.title('f1_score vs. feature type')\n",
    "plt.ylabel('f1_scores')\n",
    "plt.xlabel('feature type')\n",
    "plt.xticks(rotation=90)\n",
    "\n",
    "plt.show()"
   ]
  },
  {
   "cell_type": "markdown",
   "metadata": {},
   "source": [
    "* After adding in last year's strength and number of hurricanes, the model performed better but still worse than the all wod features and temperature only models.\n",
    "\n",
    "* ### Summary: For logistic regression for the features that I have I would choose to run with temperature as the only feature as the performance was the best.\n",
    "    * C decreased as the number of features increased until the last model where C increased.  This suggests mostly that as the complexity of the model increased, regularization was increased to balance out bias and variance to prevent over fitting.\n",
    "    * More research into features need to be done in order to create a better model and/or more data is needed.\n",
    "    \n",
    "### 2. SVM Classification\n",
    "\n",
    "* ### A. Temperature only"
   ]
  },
  {
   "cell_type": "code",
   "execution_count": 26,
   "metadata": {
    "scrolled": true
   },
   "outputs": [
    {
     "name": "stdout",
     "output_type": "stream",
     "text": [
      "The best param values are {'svm__gamma': 0.038048672451264247, 'svm__C': 22425.067984813617}, with an accuracy of 0.5675675675675675.\n",
      "\n",
      "             precision    recall  f1-score   support\n",
      "\n",
      "  no impact       0.50      0.25      0.33         4\n",
      "   moderate       0.73      0.80      0.76        10\n",
      "     severe       0.67      1.00      0.80         2\n",
      "\n",
      "avg / total       0.66      0.69      0.66        16\n",
      "\n",
      "\n",
      "The f1 score is : 0.6595238095238095\n",
      "support vectors coeffs: [[ 22425.06798481  22425.06798481  16585.40955914  22425.06798481\n",
      "   14534.70325226      0.          22425.06798481  22425.06798481\n",
      "   22425.06798481  22425.06798481  22425.06798481  22425.06798481      0.\n",
      "   13300.24327417 -22425.06798481 -22425.06798481 -22425.06798481\n",
      "   -7129.16020255 -22425.06798481 -22425.06798481 -22425.06798481\n",
      "  -22425.06798481 -22425.06798481 -22425.06798481 -22425.06798481\n",
      "  -14866.12789821 -22425.06798481 -22425.06798481 -22425.06798481\n",
      "  -15423.33544566 -22425.06798481 -22425.06798481]\n",
      " [     0.          22425.06798481   4534.19968758  22425.06798481      0.\n",
      "    6437.05036087  10433.66583589  22425.06798481      0.          22425.06798481\n",
      "       0.              0.           3104.17780146  13339.30974467      0.\n",
      "   22425.06798481      0.           7523.20423072   3706.9208157       0.\n",
      "   15213.23431029  22425.06798481  22425.06798481  22425.06798481      0.\n",
      "       0.         -22425.06798481 -22425.06798481 -22425.06798481\n",
      "   -4018.2913719  -22425.06798481 -22425.06798481]]\n",
      "\n",
      "support vecotrs: [[ 0.3994284 ]\n",
      " [-0.59721859]\n",
      " [ 1.34542043]\n",
      " [-1.19706674]\n",
      " [ 1.70491616]\n",
      " [ 1.62681631]\n",
      " [-0.12900546]\n",
      " [-0.36903818]\n",
      " [ 0.71413363]\n",
      " [-0.34370903]\n",
      " [ 0.79478866]\n",
      " [ 0.06058608]\n",
      " [-2.65034778]\n",
      " [ 1.34542043]\n",
      " [ 1.62681631]\n",
      " [-0.60018143]\n",
      " [-0.01055007]\n",
      " [-0.59425616]\n",
      " [ 0.54262366]\n",
      " [ 0.18209699]\n",
      " [ 1.34542043]\n",
      " [ 0.86866052]\n",
      " [-0.76485311]\n",
      " [-0.98988263]\n",
      " [ 0.24898529]\n",
      " [-0.01775444]\n",
      " [-1.16806099]\n",
      " [-0.66110969]\n",
      " [-0.23116126]\n",
      " [-1.3597811 ]\n",
      " [ 1.37947471]\n",
      " [ 0.22879854]]\n",
      "\n"
     ]
    }
   ],
   "source": [
    "from sklearn.svm import SVC\n",
    "\n",
    "def svc_mod_test(pipeline, data, target, params, split_test_size=.3, rand_iters=10, cv_folds=3, class_labels=[]):\n",
    "    \"\"\"Takes a pipeline, data, targets, CV search params, test_size, \n",
    "    number of iters and number of folds for RandomizedSearchCV, and the labels of classes.\n",
    "    \n",
    "    Returns a tuned and fitted model and f1 weighted score and prints a classification report and f1 score.\"\"\"\n",
    "    \n",
    "    #split data into train and test sets\n",
    "    X_train, X_test, y_train, y_test = train_test_split(data, target, test_size = split_test_size, random_state=42)\n",
    "\n",
    "    #run grid search on pipeline\n",
    "    gm_cv = RandomizedSearchCV(pipeline, param_distributions = params, cv=cv_folds, n_iter=rand_iters, random_state=42)\n",
    "    gm_cv.fit(X_train, y_train)\n",
    "    C = gm_cv.best_params_['svm__C']\n",
    "    gamma = gm_cv.best_params_['svm__gamma']\n",
    "    print('The best param values are {}, with an accuracy of {}.'.format(gm_cv.best_params_, gm_cv.best_score_))\n",
    "    print()\n",
    "\n",
    "    #test model on test dataset and get classification report.\n",
    "    y_pred = gm_cv.predict(X_test)\n",
    "    print(classification_report(y_test, y_pred, target_names=class_labels))\n",
    "    print()\n",
    "    \n",
    "    #get f1 score for model comparison\n",
    "    f1 = f1_score(y_test, y_pred, average='weighted')\n",
    "    print('The f1 score is : {}'.format(f1))\n",
    "    \n",
    "    return gm_cv, f1, C, gamma\n",
    "\n",
    "#set up pipeline\n",
    "steps = [('scaler', StandardScaler())\n",
    "        ,('svm', SVC())]\n",
    "\n",
    "pipeline_svc = Pipeline(steps)\n",
    "\n",
    "#set up grid search cross validation parameters and other params needed to generate the classifier\n",
    "params_svc = {'svm__C':np.logspace(-5, 5, 40000),\n",
    "              'svm__gamma':np.logspace(-5, 5,40000)}\n",
    "hurr_labels=['no impact', 'moderate', 'severe']\n",
    "\n",
    "\n",
    "\n",
    "#run svm classification\n",
    "svc_hurr_temp, f1_hurr_temp, C_hurr_temp, gamma_hurr_temp = svc_mod_test(pipeline = pipeline_svc, data=X[:,4].reshape(-1,1), \n",
    "                                                       target=y_hurr, params=params_svc, \n",
    "                                                       rand_iters=10000, class_labels=hurr_labels, \n",
    "                                                       split_test_size=.3, cv_folds=3)\n",
    "    \n",
    "print('support vectors coeffs: {}'.format(svc_hurr_temp.best_estimator_.named_steps['svm'].dual_coef_))\n",
    "print()\n",
    "print('support vecotrs: {}'.format(svc_hurr_temp.best_estimator_.named_steps['svm'].support_vectors_))\n",
    "print()"
   ]
  },
  {
   "cell_type": "markdown",
   "metadata": {},
   "source": [
    "* ### B. All wod features"
   ]
  },
  {
   "cell_type": "code",
   "execution_count": 27,
   "metadata": {
    "scrolled": true
   },
   "outputs": [
    {
     "name": "stdout",
     "output_type": "stream",
     "text": [
      "The best param values are {'svm__gamma': 0.007741448349644805, 'svm__C': 88.445077504229744}, with an accuracy of 0.5675675675675675.\n",
      "\n",
      "             precision    recall  f1-score   support\n",
      "\n",
      "  no impact       0.67      0.50      0.57         4\n",
      "   moderate       0.67      0.80      0.73        10\n",
      "     severe       0.00      0.00      0.00         2\n",
      "\n",
      "avg / total       0.58      0.62      0.60        16\n",
      "\n",
      "\n",
      "The f1 score is : 0.5974025974025974\n",
      "support vectors coeffs: [[ 88.4450775   88.4450775   88.4450775   88.4450775    7.56389106\n",
      "   88.4450775   88.4450775   88.4450775   88.4450775   88.4450775\n",
      "   88.4450775   88.4450775   15.87939937  88.4450775  -88.4450775\n",
      "  -61.20991853  -0.         -88.4450775  -88.4450775  -88.4450775\n",
      "  -88.4450775  -88.4450775  -88.4450775  -88.4450775  -88.4450775\n",
      "  -88.4450775  -30.223809   -20.4546404  -88.4450775  -88.4450775\n",
      "  -88.4450775  -17.5465887  -88.4450775  -88.4450775 ]\n",
      " [  0.           0.          42.61209405  88.4450775   61.74622836   0.\n",
      "   88.4450775   87.85961082   0.           0.           0.           0.\n",
      "    2.21881048   0.          41.10680078  88.4450775   46.80119242   0.\n",
      "    0.          88.4450775    0.           0.           0.          88.4450775\n",
      "    0.           0.          88.4450775    0.           0.         -88.4450775\n",
      "  -88.4450775  -87.9079932  -88.4450775  -88.4450775 ]]\n",
      "\n",
      "support vecotrs: [[-0.33611681 -0.19571652  0.59537196 -0.45589685  0.3994284 ]\n",
      " [-0.23076164 -0.20687435  0.458973   -0.38903681 -0.59721859]\n",
      " [-0.40251658 -0.21215441  0.50360608  0.25164056  1.34542043]\n",
      " [-0.66795608 -0.20128662 -0.2420085  -0.44539139 -1.19706674]\n",
      " [-0.31039919 -0.20604297 -0.29621822 -0.38282249  1.70491616]\n",
      " [ 0.29501125 -0.20414708  0.41089749 -0.46344818  1.62681631]\n",
      " [-0.19917799 -0.0461207  -0.39567991 -0.25576036 -0.12900546]\n",
      " [-0.36337158 -0.16543992  0.33206361 -0.32093992 -0.36903818]\n",
      " [ 1.26529015 -0.20864036  0.57177574 -0.47544213  0.71413363]\n",
      " [-0.50589855 -0.20436092  0.57881557 -0.29369048 -0.34370903]\n",
      " [-0.2200243  -0.16877239 -0.03486225 -0.40108883  0.79478866]\n",
      " [-0.73188231 -0.19543459  0.5620964  -0.46851557  0.06058608]\n",
      " [ 4.62518148 -0.13391443 -1.91795324  0.50818236 -2.65034778]\n",
      " [ 1.38576011 -0.21215441  0.50360608  0.25164056  1.34542043]\n",
      " [ 0.29501125 -0.20414708  0.41089749 -0.46344818  1.62681631]\n",
      " [-0.90930614 -0.18717884  0.35273443  0.15783313 -0.3000021 ]\n",
      " [-0.72418859 -0.20503133  0.29876978  0.01440615 -0.60018143]\n",
      " [-0.71678095 -0.18247192  0.56433071 -0.29369048 -0.01055007]\n",
      " [ 0.05720675 -0.19821849  0.40397913 -0.45280528 -0.59425616]\n",
      " [-0.15710087 -0.17189209 -0.62085839 -0.03440082 -0.1718869 ]\n",
      " [-0.04376905 -0.21856519  0.59160659 -0.40306479  0.54262366]\n",
      " [-0.54338311 -0.19992861  0.52258991 -0.29369048 -0.06323221]\n",
      " [-0.54701588 -0.20557462  0.55758169 -0.45841768  0.18209699]\n",
      " [-0.45746324 -0.20160295  0.11497598 -0.34104007 -0.27159629]\n",
      " [ 1.38576011 -0.21215441  0.50360608  0.25164056  1.34542043]\n",
      " [ 1.45859774 -0.18508669  0.49764237 -0.38457899  0.86866052]\n",
      " [-0.18776772  0.09079837 -0.81303306  0.16529135 -0.98988263]\n",
      " [ 0.24571322 -0.20697029  0.52020239  0.62918031  0.24898529]\n",
      " [-0.16799523 -0.20428153  0.13406306 -0.40395664 -0.01775444]\n",
      " [-0.23502954  0.01101096 -0.94347319  0.17542088 -1.16806099]\n",
      " [-1.28608849 -0.19310016  0.60325721 -0.45554391 -0.23116126]\n",
      " [-0.32995958  0.07391349 -1.03610462  0.77893939 -1.3597811 ]\n",
      " [-0.3501552  -0.21032276  0.55433634 -0.48471039  1.37947471]\n",
      " [-0.12014942 -0.16573365 -0.84462478 -0.04418142  0.22879854]]\n",
      "\n"
     ]
    }
   ],
   "source": [
    "svc_hurr_wod, f1_hurr_wod, C_hurr_wod, gamma_hurr_wod = svc_mod_test(pipeline = pipeline_svc, data=X, target=y_hurr, \n",
    "                                                              params=params_svc,rand_iters=10000, \n",
    "                                                              class_labels=hurr_labels, split_test_size=.3, cv_folds=3)\n",
    "    \n",
    "print('support vectors coeffs: {}'.format(svc_hurr_wod.best_estimator_.named_steps['svm'].dual_coef_))\n",
    "print()\n",
    "print('support vecotrs: {}'.format(svc_hurr_wod.best_estimator_.named_steps['svm'].support_vectors_))\n",
    "print()"
   ]
  },
  {
   "cell_type": "markdown",
   "metadata": {},
   "source": [
    "* After adding in all the wod features into the model, the model performed slightly worse\n",
    "* Moreover, the performance is slightly better than the corresponding feature set logistic regression models.\n",
    "\n",
    "* ### C. Add in previous year's wod data as features."
   ]
  },
  {
   "cell_type": "code",
   "execution_count": 28,
   "metadata": {},
   "outputs": [
    {
     "name": "stdout",
     "output_type": "stream",
     "text": [
      "The best param values are {'svm__gamma': 0.00041907384550764502, 'svm__C': 243.04385335046564}, with an accuracy of 0.5555555555555556.\n",
      "\n",
      "             precision    recall  f1-score   support\n",
      "\n",
      "  no impact       0.50      0.25      0.33         4\n",
      "   moderate       0.54      1.00      0.70         7\n",
      "     severe       1.00      0.20      0.33         5\n",
      "\n",
      "avg / total       0.67      0.56      0.49        16\n",
      "\n",
      "\n",
      "The f1 score is : 0.49375\n",
      "support vectors coeffs: [[ 243.04385335  243.04385335  243.04385335  243.04385335  243.04385335\n",
      "   209.72370787  243.04385335  243.04385335  243.04385335  243.04385335\n",
      "   243.04385335   21.47548891  233.24655081  -14.70656076 -243.04385335\n",
      "  -243.04385335 -243.04385335 -243.04385335  -17.68242067 -243.04385335\n",
      "  -243.04385335  -43.47365033   -0.         -243.04385335 -243.04385335\n",
      "  -145.53926248 -243.04385335 -243.04385335 -243.04385335 -243.04385335\n",
      "  -243.04385335 -148.96447398 -127.67376866]\n",
      " [   0.            0.           29.90087262    0.            0.            0.\n",
      "   241.89689829    0.          242.60031559  243.04385335    0.\n",
      "     5.28400948    0.            0.            0.            0.            0.\n",
      "     0.            3.98479356  115.38360379    0.            0.\n",
      "     2.96322203    0.            0.          243.04385335  243.04385335\n",
      "     0.          243.04385335 -243.04385335 -243.04385335 -243.04385335\n",
      "  -122.33161938]]\n",
      "\n",
      "support vecotrs: [[ -3.22084129e-01  -2.75282820e-01   6.75918878e-01  -6.20051360e-01\n",
      "   -4.81354184e-02  -1.94922350e-01  -2.10003920e-01   4.68178970e-01\n",
      "   -3.77180506e-01  -5.66658626e-01]\n",
      " [  2.28864089e+00  -2.95986229e-01   7.70436838e-01   1.27458401e+00\n",
      "    1.56856689e+00  -3.69048180e-01  -2.15215400e-01   5.12360669e-01\n",
      "    2.55336295e-01   1.39962058e+00]\n",
      " [ -8.40300055e-01  -2.57713829e-01  -6.28982074e-01  -7.92747595e-01\n",
      "   -1.39662323e+00  -8.82833408e-01  -1.90564228e-01   3.63014796e-01\n",
      "    1.62723730e-01  -2.65825273e-01]\n",
      " [ -3.76250106e-01  -1.31474851e-01   4.48474554e-01  -4.23636147e-01\n",
      "   -4.30930213e-01  -2.75659214e-01  -2.09183333e-01  -2.79374962e-01\n",
      "   -3.71045342e-01   1.76349106e+00]\n",
      " [ -1.57853234e-01  -1.43210594e-01  -2.40196249e-01  -6.61350337e-01\n",
      "    9.26389458e-01  -1.20244776e-01  -1.75476033e-01  -6.00732031e-01\n",
      "   -2.70616653e-02  -1.36151025e-01]\n",
      " [ -2.95543974e-01  -2.74463943e-01  -7.30726468e-01  -6.07174076e-01\n",
      "    1.98783083e+00  -5.34853930e-03  -2.21542909e-01   5.99471229e-01\n",
      "   -3.91029803e-01   5.87054489e-01]\n",
      " [ -1.26092828e-01   2.88723800e-01  -9.17402773e-01  -2.30319682e-01\n",
      "   -1.50990692e-01  -2.95489614e-01   6.71368065e-02  -1.01177885e+00\n",
      "    7.75918705e-01  -1.33850084e+00]\n",
      " [ -5.93397178e-01  -2.68540390e-01   9.11595006e-01  -3.42816868e-01\n",
      "   -4.01389941e-01  -5.11859217e-01  -2.03148393e-01   5.31152521e-01\n",
      "   -2.83048643e-01  -2.61741086e-02]\n",
      " [ -9.37694923e-01  -2.37105112e-01   8.80215350e-01  -8.61331739e-01\n",
      "    7.01215206e-02   1.32178078e+00  -2.11746988e-01   5.79840928e-01\n",
      "   -4.62485250e-01   7.60651581e-01]\n",
      " [ -1.08708698e-01  -6.79923011e-02  -1.22696213e+00   2.25380224e-01\n",
      "   -2.60205381e-01  -1.84036797e-01  -1.72396857e-01  -2.06621019e-02\n",
      "   -3.89079018e-01   8.42288115e-01]\n",
      " [ -3.34726068e-01  -2.38097983e-01   9.42669139e-01  -8.23905791e-01\n",
      "    4.65298308e-01  -5.15542138e-01  -2.08721071e-01   5.65790423e-01\n",
      "   -4.45677643e-01   2.22140534e-01]\n",
      " [ -4.35889493e-01  -2.95986229e-01   7.70436838e-01   1.27458401e+00\n",
      "    1.56856689e+00   8.39134674e-01   5.89882694e+00  -4.76760843e+00\n",
      "    2.55336295e-01  -1.90927443e+00]\n",
      " [  2.10509879e+00  -2.83611009e-01   8.98382183e-01  -8.81875273e-01\n",
      "    8.32325066e-01   1.51775676e+00  -1.88499250e-01   5.06457270e-01\n",
      "   -3.72779466e-01   9.17058932e-01]\n",
      " [ -5.19603521e-01  -2.58827823e-01   4.10300842e-02  -4.83251319e-01\n",
      "   -3.17288058e-01  -6.02023075e-01  -6.33551805e-02   3.29689529e-01\n",
      "    5.56922605e+00  -6.31327220e-01]\n",
      " [  6.26829589e-01  -2.67787334e-01   5.96435218e-01  -8.46302345e-01\n",
      "    1.89674644e+00   3.38108247e-01  -2.07312075e-01   4.20589653e-01\n",
      "   -4.50644074e-01   1.68444081e+00]\n",
      " [  1.50900689e-01  -1.87192489e-01   9.00411800e-01  -8.56898660e-01\n",
      "    2.05021821e-01  -1.26481682e+00  -1.96408637e-01   6.11004022e-01\n",
      "   -4.42840481e-01  -1.96146702e-01]\n",
      " [ -6.79919033e-01  -3.00286499e-01  -3.13243654e-01  -7.63158340e-01\n",
      "   -5.05750751e-01  -6.95160514e-01  -2.08184835e-01   3.09595890e-01\n",
      "    2.11236383e-02  -5.69657521e-01]\n",
      " [ -6.50506810e-01  -2.52931408e-01   8.06066962e-01  -3.42816868e-01\n",
      "   -7.42822625e-02  -6.87650624e-01  -1.85918447e-01   5.72471195e-01\n",
      "   -2.83048643e-01   2.71491257e-02]\n",
      " [  2.89389237e+00   5.77302860e+00  -2.61718287e+00   2.14268277e+00\n",
      "   -2.40683041e-01  -1.62902730e-01  -5.13382778e-02  -3.77830794e-01\n",
      "   -2.45601655e-01  -9.27477626e-02]\n",
      " [ -7.85843038e-02  -2.68260806e-01   7.68539866e-02  -6.69856000e-01\n",
      "   -2.12435545e-02   9.70211239e-02  -2.01460489e-01   4.13741260e-01\n",
      "   -4.40136728e-01  -5.63660149e-01]\n",
      " [  5.38355268e-01  -2.93340912e-01   2.33001184e-01  -2.68119032e-01\n",
      "   -1.14023131e+00  -3.29362832e-01  -1.69107672e-01   3.42553020e-01\n",
      "   -3.09950991e-01  -3.35701465e-01]\n",
      " [ -4.03540273e-01  -2.84948870e-01   6.07233021e-01  -3.42816868e-01\n",
      "   -1.06309470e+00  -4.73857224e-01  -2.07523134e-01   5.86809565e-01\n",
      "   -2.83048643e-01  -3.10064076e-01]\n",
      " [ -9.25973139e-01  -2.70901323e-01   3.85986480e-01   5.70968940e-01\n",
      "   -7.00502340e-01  -4.24753317e-01  -2.04800986e-01   1.27660807e-01\n",
      "   -3.29795120e-01  -2.37073797e-01]\n",
      " [ -6.56041526e-01  -2.72814602e-01   8.71741849e-01  -8.31382333e-01\n",
      "    2.11834316e-01  -7.02960444e-01  -1.98712745e-01   5.70259473e-01\n",
      "   -4.55646914e-01   9.91509387e-02]\n",
      " [  2.28864089e+00  -2.95986229e-01   7.70436838e-01   1.27458401e+00\n",
      "    1.56856689e+00   1.44391369e+00  -2.15215400e-01   5.12360669e-01\n",
      "    2.55336295e-01   1.39962058e+00]\n",
      " [ -1.08708698e-01   4.74148273e-01  -1.93860526e+00   8.62700136e-01\n",
      "   -1.15499358e+00  -1.51334952e-01   8.38023719e-02  -7.90963232e-01\n",
      "    1.70086943e-01  -9.64101041e-01]\n",
      " [ -1.20800913e+00  -2.08031380e-01   4.87270922e-01   9.96359950e-01\n",
      "   -3.50416487e-01   2.88129715e-01  -2.10098609e-01   5.28789147e-01\n",
      "    6.28067165e-01   2.89842807e-01]\n",
      " [  1.10680592e-01  -3.18562645e-01   9.35602042e-01  -6.67210830e-01\n",
      "    6.32300590e-01  -1.31289524e-01  -2.07444775e-01   1.46554861e-01\n",
      "   -3.91910301e-01   1.98570856e-02]\n",
      " [ -6.19861884e-02  -1.54197028e-01  -1.34003268e+00   4.26212006e-01\n",
      "   -2.01001407e-01  -8.27832513e-02  -1.69397594e-01  -8.22235459e-01\n",
      "   -3.67176782e-02   2.69410398e-01]\n",
      " [ -5.68877561e-03  -1.32509287e-01  -1.76001229e+00   3.97203684e-01\n",
      "    2.66300261e-01   3.38108247e-01  -2.07312075e-01   4.20589653e-01\n",
      "   -4.50644074e-01   1.68444081e+00]\n",
      " [ -1.78205619e+00  -2.28884104e-01   9.57468690e-01  -8.22859013e-01\n",
      "   -2.70130467e-01  -3.01731833e-01  -1.98991018e-01   6.03198521e-01\n",
      "   -4.43188923e-01   4.42116673e-01]\n",
      " [ -3.25345222e-01   7.11440340e-01  -2.11939436e+00   2.83850304e+00\n",
      "   -1.58638977e+00  -1.99249168e-01   5.05130501e-03  -9.20084214e-01\n",
      "    1.80087452e-01  -1.14444767e+00]\n",
      " [ -3.34077941e-01  -2.00663584e-01  -8.41137216e-01  -6.12383682e-01\n",
      "   -1.48279983e+00   4.72805169e+00  -1.37991666e-01  -1.88470930e+00\n",
      "    5.08610414e-01  -2.64477257e+00]]\n",
      "\n"
     ]
    }
   ],
   "source": [
    "svc_hurr_last, f1_hurr_last, C_hurr_last, gamma_hurr_last = svc_mod_test(pipeline = pipeline_svc, data=X_last, target=y_hurr[1:], \n",
    "                                                              params=params_svc,rand_iters=10000, \n",
    "                                                              class_labels=hurr_labels, split_test_size=.3, cv_folds=3)\n",
    "    \n",
    "print('support vectors coeffs: {}'.format(svc_hurr_last.best_estimator_.named_steps['svm'].dual_coef_))\n",
    "print()\n",
    "print('support vecotrs: {}'.format(svc_hurr_last.best_estimator_.named_steps['svm'].support_vectors_))\n",
    "print()"
   ]
  },
  {
   "cell_type": "markdown",
   "metadata": {},
   "source": [
    "* After adding in last year's wod_features it seems that the performance is slightly worse than with all the wod features.\n",
    "* Also, the performance to the logistic regression model is still better.\n",
    "\n",
    "* ### D. Add in the previous years number of hurricanes and average strength as features."
   ]
  },
  {
   "cell_type": "code",
   "execution_count": 30,
   "metadata": {},
   "outputs": [
    {
     "name": "stdout",
     "output_type": "stream",
     "text": [
      "The best param values are {'svm__gamma': 3.9606361228676616e-05, 'svm__C': 203.32121887967944}, with an accuracy of 0.5277777777777778.\n",
      "\n",
      "             precision    recall  f1-score   support\n",
      "\n",
      "  no impact       0.00      0.00      0.00         4\n",
      "   moderate       0.44      1.00      0.61         7\n",
      "     severe       0.00      0.00      0.00         5\n",
      "\n",
      "avg / total       0.19      0.44      0.27        16\n",
      "\n",
      "\n",
      "The f1 score is : 0.266304347826087\n",
      "support vectors coeffs: [[ 203.32121888  203.32121888  203.32121888  203.32121888  203.32121888\n",
      "   203.32121888  203.32121888  203.32121888  203.32121888  203.32121888\n",
      "   203.32121888  203.32121888  203.32121888  203.32121888  -51.80790533\n",
      "    -0.         -203.32121888 -203.32121888 -203.32121888 -203.32121888\n",
      "   -28.96684654 -203.32121888 -146.93421283   -0.         -203.32121888\n",
      "  -203.32121888 -203.32121888 -182.78305421 -199.47163773 -203.32121888\n",
      "  -203.32121888 -203.32121888 -203.32121888 -203.32121888 -203.32121888\n",
      "  -203.32121888]\n",
      " [   2.24418841    0.          203.32121888    0.            0.            0.\n",
      "   129.39005764    0.          203.32121888  203.32121888    0.            0.\n",
      "    60.47673684   11.21023598    0.           25.20194853    0.            0.\n",
      "     0.            0.            3.89229848  203.32121888    0.\n",
      "     6.20727443    0.            0.           10.47990719    0.\n",
      "   203.32121888  157.53979024    0.          203.32121888 -203.32121888\n",
      "  -203.32121888 -203.32121888 -203.32121888]]\n",
      "\n",
      "support vecotrs: [[ -3.22084129e-01  -2.75282820e-01   6.75918878e-01  -6.20051360e-01\n",
      "   -4.81354184e-02  -1.94922350e-01  -2.10003920e-01   4.68178970e-01\n",
      "   -3.77180506e-01  -5.66658626e-01  -7.09396964e-01  -1.04735584e+00]\n",
      " [  2.28864089e+00  -2.95986229e-01   7.70436838e-01   1.27458401e+00\n",
      "    1.56856689e+00  -3.69048180e-01  -2.15215400e-01   5.12360669e-01\n",
      "    2.55336295e-01   1.39962058e+00  -7.09396964e-01  -1.04735584e+00]\n",
      " [ -8.40300055e-01  -2.57713829e-01  -6.28982074e-01  -7.92747595e-01\n",
      "   -1.39662323e+00  -8.82833408e-01  -1.90564228e-01   3.63014796e-01\n",
      "    1.62723730e-01  -2.65825273e-01   2.19268153e-01   5.18241817e-01]\n",
      " [ -3.76250106e-01  -1.31474851e-01   4.48474554e-01  -4.23636147e-01\n",
      "   -4.30930213e-01  -2.75659214e-01  -2.09183333e-01  -2.79374962e-01\n",
      "   -3.71045342e-01   1.76349106e+00  -7.09396964e-01  -1.04735584e+00]\n",
      " [ -1.57853234e-01  -1.43210594e-01  -2.40196249e-01  -6.61350337e-01\n",
      "    9.26389458e-01  -1.20244776e-01  -1.75476033e-01  -6.00732031e-01\n",
      "   -2.70616653e-02  -1.36151025e-01   2.19268153e-01   5.18241817e-01]\n",
      " [ -2.95543974e-01  -2.74463943e-01  -7.30726468e-01  -6.07174076e-01\n",
      "    1.98783083e+00  -5.34853930e-03  -2.21542909e-01   5.99471229e-01\n",
      "   -3.91029803e-01   5.87054489e-01   2.19268153e-01  -2.64557011e-01]\n",
      " [ -1.26092828e-01   2.88723800e-01  -9.17402773e-01  -2.30319682e-01\n",
      "   -1.50990692e-01  -2.95489614e-01   6.71368065e-02  -1.01177885e+00\n",
      "    7.75918705e-01  -1.33850084e+00   4.39826118e+00   5.18241817e-01]\n",
      " [ -5.93397178e-01  -2.68540390e-01   9.11595006e-01  -3.42816868e-01\n",
      "   -4.01389941e-01  -5.11859217e-01  -2.03148393e-01   5.31152521e-01\n",
      "   -2.83048643e-01  -2.61741086e-02  -2.45064406e-01   2.08383947e+00]\n",
      " [ -9.37694923e-01  -2.37105112e-01   8.80215350e-01  -8.61331739e-01\n",
      "    7.01215206e-02   1.32178078e+00  -2.11746988e-01   5.79840928e-01\n",
      "   -4.62485250e-01   7.60651581e-01  -7.09396964e-01  -1.04735584e+00]\n",
      " [ -1.08708698e-01  -6.79923011e-02  -1.22696213e+00   2.25380224e-01\n",
      "   -2.60205381e-01  -1.84036797e-01  -1.72396857e-01  -2.06621019e-02\n",
      "   -3.89079018e-01   8.42288115e-01  -7.09396964e-01  -1.04735584e+00]\n",
      " [  6.26829589e-01  -2.67787334e-01   5.96435218e-01  -8.46302345e-01\n",
      "    1.89674644e+00  -3.15964007e-01  -2.13407541e-01   5.62577892e-01\n",
      "   -4.71635457e-01   1.43408927e+00   6.83600711e-01   5.18241817e-01]\n",
      " [ -3.34726068e-01  -2.38097983e-01   9.42669139e-01  -8.23905791e-01\n",
      "    4.65298308e-01  -5.15542138e-01  -2.08721071e-01   5.65790423e-01\n",
      "   -4.45677643e-01   2.22140534e-01  -2.45064406e-01   1.30104065e+00]\n",
      " [ -4.35889493e-01  -2.95986229e-01   7.70436838e-01   1.27458401e+00\n",
      "    1.56856689e+00   8.39134674e-01   5.89882694e+00  -4.76760843e+00\n",
      "    2.55336295e-01  -1.90927443e+00   6.83600711e-01   2.57308874e-01]\n",
      " [  2.10509879e+00  -2.83611009e-01   8.98382183e-01  -8.81875273e-01\n",
      "    8.32325066e-01   1.51775676e+00  -1.88499250e-01   5.06457270e-01\n",
      "   -3.72779466e-01   9.17058932e-01  -2.45064406e-01   1.30104065e+00]\n",
      " [ -5.19603521e-01  -2.58827823e-01   4.10300842e-02  -4.83251319e-01\n",
      "   -3.17288058e-01  -6.02023075e-01  -6.33551805e-02   3.29689529e-01\n",
      "    5.56922605e+00  -6.31327220e-01   6.83600711e-01   1.82290653e+00]\n",
      " [  1.12504926e+00   3.83995564e-02  -4.83523351e-01   2.39262271e+00\n",
      "   -1.64019637e+00  -6.38151777e-01  -2.04488766e-01  -2.25713470e-01\n",
      "   -4.32817280e-01  -1.17380639e+00  -7.09396964e-01  -1.04735584e+00]\n",
      " [  6.26829589e-01  -2.67787334e-01   5.96435218e-01  -8.46302345e-01\n",
      "    1.89674644e+00   3.38108247e-01  -2.07312075e-01   4.20589653e-01\n",
      "   -4.50644074e-01   1.68444081e+00  -7.09396964e-01  -1.04735584e+00]\n",
      " [  1.50900689e-01  -1.87192489e-01   9.00411800e-01  -8.56898660e-01\n",
      "    2.05021821e-01  -1.26481682e+00  -1.96408637e-01   6.11004022e-01\n",
      "   -4.42840481e-01  -1.96146702e-01   2.07659839e+00   6.48708288e-01]\n",
      " [ -6.79919033e-01  -3.00286499e-01  -3.13243654e-01  -7.63158340e-01\n",
      "   -5.05750751e-01  -6.95160514e-01  -2.08184835e-01   3.09595890e-01\n",
      "    2.11236383e-02  -5.69657521e-01   2.19268153e-01   1.26842403e-01]\n",
      " [ -6.50506810e-01  -2.52931408e-01   8.06066962e-01  -3.42816868e-01\n",
      "   -7.42822625e-02  -6.87650624e-01  -1.85918447e-01   5.72471195e-01\n",
      "   -2.83048643e-01   2.71491257e-02   2.19268153e-01   9.09641231e-01]\n",
      " [  2.89389237e+00   5.77302860e+00  -2.61718287e+00   2.14268277e+00\n",
      "   -2.40683041e-01  -1.62902730e-01  -5.13382778e-02  -3.77830794e-01\n",
      "   -2.45601655e-01  -9.27477626e-02  -7.09396964e-01  -1.04735584e+00]\n",
      " [ -7.85843038e-02  -2.68260806e-01   7.68539866e-02  -6.69856000e-01\n",
      "   -2.12435545e-02   9.70211239e-02  -2.01460489e-01   4.13741260e-01\n",
      "   -4.40136728e-01  -5.63660149e-01  -2.45064406e-01  -2.64557011e-01]\n",
      " [  5.38355268e-01  -2.93340912e-01   2.33001184e-01  -2.68119032e-01\n",
      "   -1.14023131e+00  -3.29362832e-01  -1.69107672e-01   3.42553020e-01\n",
      "   -3.09950991e-01  -3.35701465e-01  -7.09396964e-01  -1.04735584e+00]\n",
      " [ -4.03540273e-01  -2.84948870e-01   6.07233021e-01  -3.42816868e-01\n",
      "   -1.06309470e+00  -4.73857224e-01  -2.07523134e-01   5.86809565e-01\n",
      "   -2.83048643e-01  -3.10064076e-01  -7.09396964e-01  -1.04735584e+00]\n",
      " [ -9.25973139e-01  -2.70901323e-01   3.85986480e-01   5.70968940e-01\n",
      "   -7.00502340e-01  -4.24753317e-01  -2.04800986e-01   1.27660807e-01\n",
      "   -3.29795120e-01  -2.37073797e-01  -2.45064406e-01   1.30104065e+00]\n",
      " [ -6.56041526e-01  -2.72814602e-01   8.71741849e-01  -8.31382333e-01\n",
      "    2.11834316e-01  -7.02960444e-01  -1.98712745e-01   5.70259473e-01\n",
      "   -4.55646914e-01   9.91509387e-02  -7.09396964e-01  -1.04735584e+00]\n",
      " [  2.28864089e+00  -2.95986229e-01   7.70436838e-01   1.27458401e+00\n",
      "    1.56856689e+00   1.44391369e+00  -2.15215400e-01   5.12360669e-01\n",
      "    2.55336295e-01   1.39962058e+00  -7.09396964e-01  -1.04735584e+00]\n",
      " [ -4.86336489e-01  -5.23616171e-02   5.93298293e-01  -7.78189841e-02\n",
      "   -6.59336910e-01  -3.93028590e-01  -1.89849119e-01   5.16980882e-01\n",
      "   -1.94838681e-01  -7.36333114e-01  -2.45064406e-01   1.30104065e+00]\n",
      " [ -1.08708698e-01   4.74148273e-01  -1.93860526e+00   8.62700136e-01\n",
      "   -1.15499358e+00  -1.51334952e-01   8.38023719e-02  -7.90963232e-01\n",
      "    1.70086943e-01  -9.64101041e-01  -2.45064406e-01  -2.64557011e-01]\n",
      " [ -1.20800913e+00  -2.08031380e-01   4.87270922e-01   9.96359950e-01\n",
      "   -3.50416487e-01   2.88129715e-01  -2.10098609e-01   5.28789147e-01\n",
      "    6.28067165e-01   2.89842807e-01  -2.45064406e-01   1.30104065e+00]\n",
      " [  1.10680592e-01  -3.18562645e-01   9.35602042e-01  -6.67210830e-01\n",
      "    6.32300590e-01  -1.31289524e-01  -2.07444775e-01   1.46554861e-01\n",
      "   -3.91910301e-01   1.98570856e-02  -2.45064406e-01  -2.64557011e-01]\n",
      " [ -6.19861884e-02  -1.54197028e-01  -1.34003268e+00   4.26212006e-01\n",
      "   -2.01001407e-01  -8.27832513e-02  -1.69397594e-01  -8.22235459e-01\n",
      "   -3.67176782e-02   2.69410398e-01   6.83600711e-01   2.57308874e-01]\n",
      " [ -5.68877561e-03  -1.32509287e-01  -1.76001229e+00   3.97203684e-01\n",
      "    2.66300261e-01   3.38108247e-01  -2.07312075e-01   4.20589653e-01\n",
      "   -4.50644074e-01   1.68444081e+00   2.19268153e-01  -2.64557011e-01]\n",
      " [ -1.78205619e+00  -2.28884104e-01   9.57468690e-01  -8.22859013e-01\n",
      "   -2.70130467e-01  -3.01731833e-01  -1.98991018e-01   6.03198521e-01\n",
      "   -4.43188923e-01   4.42116673e-01  -7.09396964e-01  -1.04735584e+00]\n",
      " [ -3.25345222e-01   7.11440340e-01  -2.11939436e+00   2.83850304e+00\n",
      "   -1.58638977e+00  -1.99249168e-01   5.05130501e-03  -9.20084214e-01\n",
      "    1.80087452e-01  -1.14444767e+00   1.61226583e+00   1.30104065e+00]\n",
      " [ -3.34077941e-01  -2.00663584e-01  -8.41137216e-01  -6.12383682e-01\n",
      "   -1.48279983e+00   4.72805169e+00  -1.37991666e-01  -1.88470930e+00\n",
      "    5.08610414e-01  -2.64477257e+00  -7.09396964e-01  -1.04735584e+00]]\n",
      "\n"
     ]
    },
    {
     "name": "stderr",
     "output_type": "stream",
     "text": [
      "C:\\Users\\sethh\\Anaconda3\\lib\\site-packages\\sklearn\\metrics\\classification.py:1135: UndefinedMetricWarning: Precision and F-score are ill-defined and being set to 0.0 in labels with no predicted samples.\n",
      "  'precision', 'predicted', average, warn_for)\n",
      "C:\\Users\\sethh\\Anaconda3\\lib\\site-packages\\sklearn\\metrics\\classification.py:1135: UndefinedMetricWarning: F-score is ill-defined and being set to 0.0 in labels with no predicted samples.\n",
      "  'precision', 'predicted', average, warn_for)\n"
     ]
    }
   ],
   "source": [
    "svc_hurr_last_hurr, f1_hurr_last_hurr, C_hurr_last_hurr, gamma_hurr_last_hurr = svc_mod_test(pipeline = pipeline_svc, data=X_last_hurr, target=y_hurr[1:], \n",
    "                                                              params=params_svc,rand_iters=10000, \n",
    "                                                              class_labels=hurr_labels, split_test_size=.3, cv_folds=3)\n",
    "    \n",
    "print('support vectors coeffs: {}'.format(svc_hurr_last_hurr.best_estimator_.named_steps['svm'].dual_coef_))\n",
    "print()\n",
    "print('support vecotrs: {}'.format(svc_hurr_last_hurr.best_estimator_.named_steps['svm'].support_vectors_))\n",
    "print()"
   ]
  },
  {
   "cell_type": "code",
   "execution_count": 31,
   "metadata": {},
   "outputs": [
    {
     "name": "stdout",
     "output_type": "stream",
     "text": [
      "The f1 scores for the svm classification models.\n"
     ]
    },
    {
     "data": {
      "image/png": "[encoded data removed]",
      "text/plain": [
       "<matplotlib.figure.Figure at 0x26d9ff70e80>"
      ]
     },
     "metadata": {},
     "output_type": "display_data"
    }
   ],
   "source": [
    "print('The f1 scores for the svm classification models.')\n",
    "plt.figure(figsize = (10,3))\n",
    "plt.bar(x=range(4), height=[f1_hurr_last_hurr,f1_hurr_last, f1_hurr_wod, f1_hurr_temp], \n",
    "            tick_label=['last years number of hurrs and strength added','last years wod features added','all wod features','only temperature'])\n",
    "plt.title('f1_score vs. feature type')\n",
    "plt.ylabel('f1_scores')\n",
    "plt.xlabel('feature type')\n",
    "plt.xticks(rotation=90)\n",
    "\n",
    "plt.show()"
   ]
  },
  {
   "cell_type": "markdown",
   "metadata": {},
   "source": [
    "* After adding in last year's strength and number of hurricanes, the model performs worse.\n",
    "\n",
    "* ### Summary: For svm classification for the features that I have I would choose to run with temperature as the only feature.\n",
    "    * More research into features need to be done in order to create a better model and/or more data is needed.\n",
    "    * Also the model performed on average better than logistic regression.\n",
    "    * gamma steadily decreased by an order of magnitude at a time suggesting that as more features were added the model was tuning to add in more bias to counteract overfitting."
   ]
  },
  {
   "cell_type": "markdown",
   "metadata": {},
   "source": [
    "### 3. k Nearest Neighbors\n",
    "\n",
    "* ### A. Temperature only"
   ]
  },
  {
   "cell_type": "code",
   "execution_count": 32,
   "metadata": {
    "scrolled": true
   },
   "outputs": [
    {
     "name": "stdout",
     "output_type": "stream",
     "text": [
      "The best param values are {'knn__n_neighbors': 9}, with an accuracy of 0.4594594594594595.\n",
      "\n",
      "             precision    recall  f1-score   support\n",
      "\n",
      "  no impact       1.00      0.25      0.40         4\n",
      "   moderate       0.75      0.90      0.82        10\n",
      "     severe       0.67      1.00      0.80         2\n",
      "\n",
      "avg / total       0.80      0.75      0.71        16\n",
      "\n",
      "\n",
      "The f1 score is : 0.7113636363636363\n"
     ]
    }
   ],
   "source": [
    "from sklearn.neighbors import KNeighborsClassifier\n",
    "from sklearn.model_selection import GridSearchCV\n",
    "\n",
    "def knn_mod_test(pipeline, data, target, params, split_test_size=.3, cv_folds=3, class_labels=[]):\n",
    "    \"\"\"Takes a pipeline, data, targets, CV search params, test_size, \n",
    "    number of folds for GridSearchCV, and the labels of classes.\n",
    "    \n",
    "    Returns a tuned and fitted model and f1 weighted score and prints a classification report and f1 score.\"\"\"\n",
    "    \n",
    "    #split data into train and test sets\n",
    "    X_train, X_test, y_train, y_test = train_test_split(data, target, test_size = split_test_size, random_state=42)\n",
    "\n",
    "    #run grid search on pipeline\n",
    "    gm_cv = GridSearchCV(pipeline, param_grid = params, cv=cv_folds)\n",
    "    gm_cv.fit(X_train, y_train)\n",
    "    k = gm_cv.best_params_['knn__n_neighbors']\n",
    "    print('The best param values are {}, with an accuracy of {}.'.format(gm_cv.best_params_, gm_cv.best_score_))\n",
    "    print()\n",
    "\n",
    "    #test model on test dataset and get classification report.\n",
    "    y_pred = gm_cv.predict(X_test)\n",
    "    print(classification_report(y_test, y_pred, target_names=class_labels))\n",
    "    print()\n",
    "    \n",
    "    #get f1 score for model comparison\n",
    "    f1 = f1_score(y_test, y_pred, average='weighted')\n",
    "    print('The f1 score is : {}'.format(f1))\n",
    "    \n",
    "    return gm_cv, f1, k\n",
    "\n",
    "#set up pipeline\n",
    "steps = [('scaler', StandardScaler())\n",
    "        ,('knn', KNeighborsClassifier())]\n",
    "\n",
    "pipeline_knn = Pipeline(steps)\n",
    "\n",
    "#set up grid search cross validation parameters and other params needed to generate the classifier\n",
    "params_knn = {'knn__n_neighbors':np.arange(1, 20, 1)}\n",
    "hurr_labels=['no impact', 'moderate', 'severe']\n",
    "\n",
    "\n",
    "#run kNN\n",
    "knn_hurr_temp, f1_hurr_temp, k_hurr_temp = knn_mod_test(pipeline = pipeline_knn, data=X[:,4].reshape(-1,1), \n",
    "                                                       target=y_hurr, params=params_knn, class_labels=hurr_labels, \n",
    "                                                       split_test_size=.3, cv_folds=3)\n",
    "    "
   ]
  },
  {
   "cell_type": "markdown",
   "metadata": {},
   "source": [
    "* ### B. All wod features"
   ]
  },
  {
   "cell_type": "code",
   "execution_count": 33,
   "metadata": {
    "scrolled": true
   },
   "outputs": [
    {
     "name": "stdout",
     "output_type": "stream",
     "text": [
      "The best param values are {'knn__n_neighbors': 11}, with an accuracy of 0.5405405405405406.\n",
      "\n",
      "             precision    recall  f1-score   support\n",
      "\n",
      "  no impact       1.00      0.25      0.40         4\n",
      "   moderate       0.67      1.00      0.80        10\n",
      "     severe       0.00      0.00      0.00         2\n",
      "\n",
      "avg / total       0.67      0.69      0.60        16\n",
      "\n",
      "\n",
      "The f1 score is : 0.6\n"
     ]
    },
    {
     "name": "stderr",
     "output_type": "stream",
     "text": [
      "C:\\Users\\sethh\\Anaconda3\\lib\\site-packages\\sklearn\\metrics\\classification.py:1135: UndefinedMetricWarning: Precision and F-score are ill-defined and being set to 0.0 in labels with no predicted samples.\n",
      "  'precision', 'predicted', average, warn_for)\n",
      "C:\\Users\\sethh\\Anaconda3\\lib\\site-packages\\sklearn\\metrics\\classification.py:1135: UndefinedMetricWarning: F-score is ill-defined and being set to 0.0 in labels with no predicted samples.\n",
      "  'precision', 'predicted', average, warn_for)\n"
     ]
    }
   ],
   "source": [
    "knn_hurr_wod, f1_hurr_wod, k_hurr_wod = knn_mod_test(pipeline = pipeline_knn, data=X, target=y_hurr, \n",
    "                                                              params=params_knn, \n",
    "                                                              class_labels=hurr_labels, split_test_size=.3, cv_folds=3)\n",
    "    \n",
    "    "
   ]
  },
  {
   "cell_type": "markdown",
   "metadata": {},
   "source": [
    "* After adding in all the wod features into the model, the model performed a little worse.\n",
    "* Moreover, the performance is better than the logistic regression and svm classification performance.\n",
    "\n",
    "* ### C. Add in previous year's wod data as features."
   ]
  },
  {
   "cell_type": "code",
   "execution_count": 34,
   "metadata": {
    "scrolled": true
   },
   "outputs": [
    {
     "name": "stdout",
     "output_type": "stream",
     "text": [
      "The best param values are {'knn__n_neighbors': 7}, with an accuracy of 0.6111111111111112.\n",
      "\n",
      "             precision    recall  f1-score   support\n",
      "\n",
      "  no impact       0.33      0.25      0.29         4\n",
      "   moderate       0.54      1.00      0.70         7\n",
      "     severe       0.00      0.00      0.00         5\n",
      "\n",
      "avg / total       0.32      0.50      0.38        16\n",
      "\n",
      "\n",
      "The f1 score is : 0.3776785714285715\n"
     ]
    },
    {
     "name": "stderr",
     "output_type": "stream",
     "text": [
      "C:\\Users\\sethh\\Anaconda3\\lib\\site-packages\\sklearn\\metrics\\classification.py:1135: UndefinedMetricWarning: Precision and F-score are ill-defined and being set to 0.0 in labels with no predicted samples.\n",
      "  'precision', 'predicted', average, warn_for)\n",
      "C:\\Users\\sethh\\Anaconda3\\lib\\site-packages\\sklearn\\metrics\\classification.py:1135: UndefinedMetricWarning: F-score is ill-defined and being set to 0.0 in labels with no predicted samples.\n",
      "  'precision', 'predicted', average, warn_for)\n"
     ]
    }
   ],
   "source": [
    "knn_hurr_last, f1_hurr_last, k_hurr_last = knn_mod_test(pipeline = pipeline_knn, data=X_last, target=y_hurr[1:], \n",
    "                                                              params=params_knn, \n",
    "                                                              class_labels=hurr_labels, split_test_size=.3, cv_folds=3)\n",
    "    \n"
   ]
  },
  {
   "cell_type": "markdown",
   "metadata": {},
   "source": [
    "* After adding in last year's wod features it seems that the performance was worse again.\n",
    "* Also, the performance was slightly better when compared with logistic regression and slightly worse when compared to the svm classification model.\n",
    "\n",
    "* ### D. Add in the previous years number of hurricanes and average strength as features."
   ]
  },
  {
   "cell_type": "code",
   "execution_count": 36,
   "metadata": {
    "scrolled": false
   },
   "outputs": [
    {
     "name": "stdout",
     "output_type": "stream",
     "text": [
      "The best param values are {'knn__n_neighbors': 13}, with an accuracy of 0.5555555555555556.\n",
      "\n",
      "             precision    recall  f1-score   support\n",
      "\n",
      "  no impact       0.50      0.25      0.33         4\n",
      "   moderate       0.50      1.00      0.67         7\n",
      "     severe       0.00      0.00      0.00         5\n",
      "\n",
      "avg / total       0.34      0.50      0.37        16\n",
      "\n",
      "\n",
      "The f1 score is : 0.37499999999999994\n"
     ]
    },
    {
     "name": "stderr",
     "output_type": "stream",
     "text": [
      "C:\\Users\\sethh\\Anaconda3\\lib\\site-packages\\sklearn\\metrics\\classification.py:1135: UndefinedMetricWarning: Precision and F-score are ill-defined and being set to 0.0 in labels with no predicted samples.\n",
      "  'precision', 'predicted', average, warn_for)\n",
      "C:\\Users\\sethh\\Anaconda3\\lib\\site-packages\\sklearn\\metrics\\classification.py:1135: UndefinedMetricWarning: F-score is ill-defined and being set to 0.0 in labels with no predicted samples.\n",
      "  'precision', 'predicted', average, warn_for)\n"
     ]
    }
   ],
   "source": [
    "knn_hurr_last_hurr, f1_hurr_last_hurr, k_hurr_last_hurr = knn_mod_test(pipeline = pipeline_knn, data=X_last_hurr, target=y_hurr[1:], \n",
    "                                                              params=params_knn, \n",
    "                                                              class_labels=hurr_labels, split_test_size=.3, cv_folds=3)\n",
    "    \n"
   ]
  },
  {
   "cell_type": "code",
   "execution_count": 37,
   "metadata": {},
   "outputs": [
    {
     "name": "stdout",
     "output_type": "stream",
     "text": [
      "The f1 scores for the knn classification models.\n"
     ]
    },
    {
     "data": {
      "image/png": "[encoded data removed]",
      "text/plain": [
       "<matplotlib.figure.Figure at 0x26d9e776080>"
      ]
     },
     "metadata": {},
     "output_type": "display_data"
    }
   ],
   "source": [
    "print('The f1 scores for the knn classification models.')\n",
    "plt.figure(figsize = (10,3))\n",
    "plt.bar(x=range(4), height=[f1_hurr_last_hurr,f1_hurr_last, f1_hurr_wod, f1_hurr_temp], \n",
    "            tick_label=['last years number of hurrs and strength added','last years wod features added','all wod features','only temperature'])\n",
    "plt.title('f1_score vs. feature type')\n",
    "plt.ylabel('f1_scores')\n",
    "plt.xlabel('feature type')\n",
    "plt.xticks(rotation=90)\n",
    "\n",
    "plt.show()"
   ]
  },
  {
   "cell_type": "markdown",
   "metadata": {},
   "source": [
    "* After adding in last year's strength and number of hurricanes, the model still performs on average the same.\n",
    "\n",
    "* ### Summary: For knn classification for the features that I have I would choose to run with temp only.\n",
    "    * More research into features need to be done in order to create a better model and/or more data is needed.\n",
    "    * Also the model performed on average better than logistic regression, and better than svm classification.\n",
    "    \n",
    "***\n",
    "\n",
    "## Summary\n",
    "* As of right now the best performing model is kNN (k=9) with only temperature as the sole feature in the model.\n",
    "    * This makes since the feature set doesn't have many samples or features. Moreover, trends of features with number of hurricanes are far from linear and complex. kNN allows for relatively complex decision boundaries by nature.  kNN runs quickly as well in my case due to the low number of data points.\n",
    "    * Average f1 score of 0.71 with a nice balance between precision and recall (0.8 and 0.75 respectively).\n",
    "    * The model has the best performance when it comes to not making too many false positives at the expense of making false negatives and vice versa in each of the three categorical classes.\n",
    "* There are too few data points and not enough statistically significant features to use in the models.\n",
    "* In order to improve the various models, more research into features needs to be done, and more data collected.\n",
    "    * However, the only way to collect more data is by waiting and recording.\n",
    "    * Other features could be global weather trends for the year such as off the coast of africas where hurricanes start or the north atlantic current, etc.\n",
    "    * Here are the ones used by NOAA to predict hurricane activity but not landfall.\n",
    "        1. The conducive conditions which were predicted in May for the Atlantic hurricane Main Development Region (MDR, which includes the tropical Atlantic and Caribbean Sea) are now present and are expected to persist through the peak months (August-October, ASO) of the hurricane season. These conditions include weaker vertical wind shear, weaker trade winds, more conducive wind patterns coming off of Africa, and a stronger west African monsoon.\n",
    "\n",
    "        2. There is much higher confidence that ENSO-neutral conditions will persist through ASO, and that El Niño will not develop and suppress the season. \n",
    "\n",
    "        3. Warmer sea surface temperatures (SSTs) in the MDR are more likely to persist than key models had previously predicted.\n",
    "\n",
    "        4. All models now predict a more active season than they did in May.\n",
    "\n",
    "        5. Enhanced June-July activity in the tropical Atlantic (tropical storms Bret and Don) reinforces the expectation for an above-normal season. Historically, years with early-season activity in this region have a higher likelihood of being above-normal.\n",
    "        \n",
    "# This is where future analysis and modeling of category strength could be done.\n",
    "\n",
    "****\n",
    "\n",
    "## Looking into model feature trends."
   ]
  },
  {
   "cell_type": "code",
   "execution_count": 38,
   "metadata": {
    "scrolled": true
   },
   "outputs": [
    {
     "data": {
      "image/png": "[encoded data removed]",
      "text/plain": [
       "<matplotlib.figure.Figure at 0x26da2280828>"
      ]
     },
     "metadata": {},
     "output_type": "display_data"
    },
    {
     "data": {
      "image/png": "[encoded data removed]",
      "text/plain": [
       "<matplotlib.figure.Figure at 0x26d9d8e64e0>"
      ]
     },
     "metadata": {},
     "output_type": "display_data"
    },
    {
     "data": {
      "image/png": "[encoded data removed]",
      "text/plain": [
       "<matplotlib.figure.Figure at 0x26d9d90ecf8>"
      ]
     },
     "metadata": {},
     "output_type": "display_data"
    },
    {
     "data": {
      "image/png": "[encoded data removed]",
      "text/plain": [
       "<matplotlib.figure.Figure at 0x26da1a8bf60>"
      ]
     },
     "metadata": {},
     "output_type": "display_data"
    },
    {
     "data": {
      "image/png": "[encoded data removed]",
      "text/plain": [
       "<matplotlib.figure.Figure at 0x26da1f66a90>"
      ]
     },
     "metadata": {},
     "output_type": "display_data"
    },
    {
     "data": {
      "image/png": "[encoded data removed]",
      "text/plain": [
       "<matplotlib.figure.Figure at 0x26da0222588>"
      ]
     },
     "metadata": {},
     "output_type": "display_data"
    },
    {
     "data": {
      "image/png": "[encoded data removed]",
      "text/plain": [
       "<matplotlib.figure.Figure at 0x26d9d92fb70>"
      ]
     },
     "metadata": {},
     "output_type": "display_data"
    }
   ],
   "source": [
    "#histograms of features\n",
    "plt.hist(np.log(wod_yr.oxygen))\n",
    "plt.title('oxygen')\n",
    "plt.show()\n",
    "\n",
    "plt.hist(np.log(wod_yr.silicate))\n",
    "plt.title('silicate')\n",
    "plt.show()\n",
    "\n",
    "plt.hist(np.log(wod_yr.temperature))\n",
    "plt.title('temperature')\n",
    "plt.show()\n",
    "\n",
    "plt.hist(np.log(wod_yr.phosphate))\n",
    "plt.title('phosphate')\n",
    "plt.show()\n",
    "\n",
    "plt.hist(np.log(wod_yr.salinity))\n",
    "plt.title('salinity')\n",
    "plt.show()\n",
    "\n",
    "plt.hist(hurr_yr.name, bins=12)\n",
    "plt.title('number of hurricanes')\n",
    "plt.show()\n",
    "\n",
    "plt.hist(strengths, bins=12)\n",
    "plt.title('average strength')\n",
    "plt.show()"
   ]
  },
  {
   "cell_type": "markdown",
   "metadata": {},
   "source": [
    "None of the features seem normally distributed or linear.\n",
    "\n",
    "\n",
    "Number of hurricanes seem to follow an exponential trend and Poisson's Distribution."
   ]
  },
  {
   "cell_type": "code",
   "execution_count": 39,
   "metadata": {
    "scrolled": true
   },
   "outputs": [
    {
     "data": {
      "image/png": "[encoded data removed]",
      "text/plain": [
       "<matplotlib.figure.Figure at 0x26d9d8d1ba8>"
      ]
     },
     "metadata": {},
     "output_type": "display_data"
    },
    {
     "data": {
      "image/png": "[encoded data removed]",
      "text/plain": [
       "<matplotlib.figure.Figure at 0x26d9ee93ba8>"
      ]
     },
     "metadata": {},
     "output_type": "display_data"
    },
    {
     "data": {
      "image/png": "[encoded data removed]",
      "text/plain": [
       "<matplotlib.figure.Figure at 0x26d9e9768d0>"
      ]
     },
     "metadata": {},
     "output_type": "display_data"
    },
    {
     "data": {
      "image/png": "[encoded data removed]",
      "text/plain": [
       "<matplotlib.figure.Figure at 0x26d9efa84e0>"
      ]
     },
     "metadata": {},
     "output_type": "display_data"
    },
    {
     "data": {
      "image/png": "[encoded data removed]",
      "text/plain": [
       "<matplotlib.figure.Figure at 0x26d9f1fe400>"
      ]
     },
     "metadata": {},
     "output_type": "display_data"
    }
   ],
   "source": [
    "import seaborn as sns\n",
    "#scatter plots of features vs number of hurricanes\n",
    "sns.regplot(wod_yr.salinity, hurr_year.name)\n",
    "plt.title('salinity')\n",
    "plt.xlabel('salinity')\n",
    "plt.ylabel('number of hurricanes per year')\n",
    "plt.show()\n",
    "\n",
    "sns.regplot(wod_yr.oxygen, hurr_year.name)\n",
    "plt.title('oxygen')\n",
    "plt.xlabel('oxygen')\n",
    "plt.ylabel('number of hurricanes per year')\n",
    "plt.show()\n",
    "\n",
    "sns.regplot(wod_yr.phosphate, hurr_year.name)\n",
    "plt.title('phosphate')\n",
    "plt.xlabel('phosphate')\n",
    "plt.ylabel('number of hurricanes per year')\n",
    "plt.show()\n",
    "\n",
    "sns.regplot(wod_yr.silicate, hurr_year.name)\n",
    "plt.title('silicate')\n",
    "plt.xlabel('silicate')\n",
    "plt.ylabel('number of hurricanes per year')\n",
    "plt.show()\n",
    "\n",
    "sns.regplot(wod_yr.temperature, hurr_year.name)\n",
    "plt.title('temperature')\n",
    "plt.xlabel('temperature')\n",
    "plt.ylabel('number of hurricanes per year')\n",
    "plt.show()"
   ]
  },
  {
   "cell_type": "markdown",
   "metadata": {},
   "source": [
    "The only feature that seems helpful is temperature as shown previously in the statistical analysis portion."
   ]
  },
  {
   "cell_type": "code",
   "execution_count": null,
   "metadata": {
    "collapsed": true
   },
   "outputs": [],
   "source": []
  }
 ],
 "metadata": {
  "kernelspec": {
   "display_name": "Python 3",
   "language": "python",
   "name": "python3"
  },
  "language_info": {
   "codemirror_mode": {
    "name": "ipython",
    "version": 3
   },
   "file_extension": ".py",
   "mimetype": "text/x-python",
   "name": "python",
   "nbconvert_exporter": "python",
   "pygments_lexer": "ipython3",
   "version": "3.6.3"
  }
 },
 "nbformat": 4,
 "nbformat_minor": 2
}
